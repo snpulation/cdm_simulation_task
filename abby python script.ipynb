{
 "cells": [
  {
   "cell_type": "code",
   "execution_count": 9,
   "metadata": {},
   "outputs": [],
   "source": [
    "import pandas as pd\n",
    "\n",
    "df=pd.DataFrame()"
   ]
  },
  {
   "cell_type": "code",
   "execution_count": 11,
   "metadata": {},
   "outputs": [
    {
     "name": "stdout",
     "output_type": "stream",
     "text": [
      "['ID_001', 'ID_002', 'ID_003', 'ID_004', 'ID_005', 'ID_006', 'ID_007', 'ID_008', 'ID_009', 'ID_010', 'ID_011', 'ID_012', 'ID_013', 'ID_014', 'ID_015', 'ID_016', 'ID_017', 'ID_018', 'ID_019', 'ID_020', 'ID_021', 'ID_022', 'ID_023', 'ID_024', 'ID_025', 'ID_026', 'ID_027', 'ID_028', 'ID_029', 'ID_030', 'ID_031', 'ID_032', 'ID_033', 'ID_034', 'ID_035', 'ID_036', 'ID_037', 'ID_038', 'ID_039', 'ID_040', 'ID_041', 'ID_042', 'ID_043', 'ID_044', 'ID_045', 'ID_046', 'ID_047', 'ID_048', 'ID_049', 'ID_050', 'ID_051', 'ID_052', 'ID_053', 'ID_054', 'ID_055', 'ID_056', 'ID_057', 'ID_058', 'ID_059', 'ID_060', 'ID_061', 'ID_062', 'ID_063', 'ID_064', 'ID_065', 'ID_066', 'ID_067', 'ID_068', 'ID_069', 'ID_070', 'ID_071', 'ID_072', 'ID_073', 'ID_074', 'ID_075', 'ID_076', 'ID_077', 'ID_078', 'ID_079', 'ID_080', 'ID_081', 'ID_082', 'ID_083', 'ID_084', 'ID_085', 'ID_086', 'ID_087', 'ID_088', 'ID_089', 'ID_090', 'ID_091', 'ID_092', 'ID_093', 'ID_094', 'ID_095', 'ID_096', 'ID_097', 'ID_098', 'ID_099', 'ID_100', 'ID_101', 'ID_102', 'ID_103', 'ID_104', 'ID_105', 'ID_106', 'ID_107', 'ID_108', 'ID_109', 'ID_110', 'ID_111', 'ID_112', 'ID_113', 'ID_114', 'ID_115', 'ID_116', 'ID_117', 'ID_118', 'ID_119', 'ID_120', 'ID_121', 'ID_122', 'ID_123', 'ID_124', 'ID_125', 'ID_126', 'ID_127', 'ID_128', 'ID_129', 'ID_130', 'ID_131', 'ID_132', 'ID_133', 'ID_134', 'ID_135', 'ID_136', 'ID_137', 'ID_138', 'ID_139', 'ID_140', 'ID_141', 'ID_142', 'ID_143', 'ID_144', 'ID_145', 'ID_146', 'ID_147', 'ID_148', 'ID_149', 'ID_150', 'ID_151', 'ID_152', 'ID_153', 'ID_154', 'ID_155', 'ID_156', 'ID_157', 'ID_158', 'ID_159', 'ID_160', 'ID_161', 'ID_162', 'ID_163', 'ID_164', 'ID_165', 'ID_166', 'ID_167', 'ID_168', 'ID_169', 'ID_170', 'ID_171', 'ID_172', 'ID_173', 'ID_174', 'ID_175', 'ID_176', 'ID_177', 'ID_178', 'ID_179', 'ID_180', 'ID_181', 'ID_182', 'ID_183', 'ID_184', 'ID_185', 'ID_186', 'ID_187', 'ID_188', 'ID_189', 'ID_190', 'ID_191', 'ID_192', 'ID_193', 'ID_194', 'ID_195', 'ID_196', 'ID_197', 'ID_198', 'ID_199', 'ID_200', 'ID_201', 'ID_202', 'ID_203', 'ID_204', 'ID_205', 'ID_206', 'ID_207', 'ID_208', 'ID_209', 'ID_210', 'ID_211', 'ID_212', 'ID_213', 'ID_214', 'ID_215', 'ID_216', 'ID_217', 'ID_218', 'ID_219', 'ID_220', 'ID_221', 'ID_222', 'ID_223', 'ID_224', 'ID_225', 'ID_226', 'ID_227', 'ID_228', 'ID_229', 'ID_230', 'ID_231', 'ID_232', 'ID_233', 'ID_234', 'ID_235', 'ID_236', 'ID_237', 'ID_238', 'ID_239', 'ID_240', 'ID_241', 'ID_242', 'ID_243', 'ID_244', 'ID_245', 'ID_246', 'ID_247', 'ID_248', 'ID_249', 'ID_250', 'ID_251', 'ID_252', 'ID_253', 'ID_254', 'ID_255', 'ID_256', 'ID_257', 'ID_258', 'ID_259', 'ID_260', 'ID_261', 'ID_262', 'ID_263', 'ID_264', 'ID_265', 'ID_266', 'ID_267', 'ID_268', 'ID_269', 'ID_270', 'ID_271', 'ID_272', 'ID_273', 'ID_274', 'ID_275', 'ID_276', 'ID_277', 'ID_278', 'ID_279', 'ID_280', 'ID_281', 'ID_282', 'ID_283', 'ID_284', 'ID_285', 'ID_286', 'ID_287', 'ID_288', 'ID_289', 'ID_290', 'ID_291', 'ID_292', 'ID_293', 'ID_294', 'ID_295', 'ID_296', 'ID_297', 'ID_298', 'ID_299', 'ID_300', 'ID_301', 'ID_302', 'ID_303', 'ID_304', 'ID_305', 'ID_306', 'ID_307', 'ID_308', 'ID_309', 'ID_310', 'ID_311', 'ID_312', 'ID_313', 'ID_314', 'ID_315', 'ID_316', 'ID_317', 'ID_318', 'ID_319', 'ID_320', 'ID_321', 'ID_322', 'ID_323', 'ID_324', 'ID_325', 'ID_326', 'ID_327', 'ID_328', 'ID_329', 'ID_330', 'ID_331', 'ID_332', 'ID_333', 'ID_334', 'ID_335', 'ID_336', 'ID_337', 'ID_338', 'ID_339', 'ID_340', 'ID_341', 'ID_342', 'ID_343', 'ID_344', 'ID_345', 'ID_346', 'ID_347', 'ID_348', 'ID_349', 'ID_350', 'ID_351', 'ID_352', 'ID_353', 'ID_354', 'ID_355', 'ID_356', 'ID_357', 'ID_358', 'ID_359', 'ID_360', 'ID_361', 'ID_362', 'ID_363', 'ID_364', 'ID_365', 'ID_366', 'ID_367', 'ID_368', 'ID_369', 'ID_370', 'ID_371', 'ID_372', 'ID_373', 'ID_374', 'ID_375', 'ID_376', 'ID_377', 'ID_378', 'ID_379', 'ID_380', 'ID_381', 'ID_382', 'ID_383', 'ID_384', 'ID_385', 'ID_386', 'ID_387', 'ID_388', 'ID_389', 'ID_390', 'ID_391', 'ID_392', 'ID_393', 'ID_394', 'ID_395', 'ID_396', 'ID_397', 'ID_398', 'ID_399', 'ID_400', 'ID_401', 'ID_402', 'ID_403', 'ID_404', 'ID_405', 'ID_406', 'ID_407', 'ID_408', 'ID_409', 'ID_410', 'ID_411', 'ID_412', 'ID_413', 'ID_414', 'ID_415', 'ID_416', 'ID_417', 'ID_418', 'ID_419', 'ID_420', 'ID_421', 'ID_422', 'ID_423', 'ID_424', 'ID_425', 'ID_426', 'ID_427', 'ID_428', 'ID_429', 'ID_430', 'ID_431', 'ID_432', 'ID_433', 'ID_434', 'ID_435', 'ID_436', 'ID_437', 'ID_438', 'ID_439', 'ID_440', 'ID_441', 'ID_442', 'ID_443', 'ID_444', 'ID_445', 'ID_446', 'ID_447', 'ID_448', 'ID_449', 'ID_450', 'ID_451', 'ID_452', 'ID_453', 'ID_454', 'ID_455', 'ID_456', 'ID_457', 'ID_458', 'ID_459', 'ID_460', 'ID_461', 'ID_462', 'ID_463', 'ID_464', 'ID_465', 'ID_466', 'ID_467', 'ID_468', 'ID_469', 'ID_470', 'ID_471', 'ID_472', 'ID_473', 'ID_474', 'ID_475', 'ID_476', 'ID_477', 'ID_478', 'ID_479', 'ID_480', 'ID_481', 'ID_482', 'ID_483', 'ID_484', 'ID_485', 'ID_486', 'ID_487', 'ID_488', 'ID_489', 'ID_490', 'ID_491', 'ID_492', 'ID_493', 'ID_494', 'ID_495', 'ID_496', 'ID_497', 'ID_498', 'ID_499', 'ID_500']\n"
     ]
    },
    {
     "data": {
      "text/html": [
       "<div>\n",
       "<style scoped>\n",
       "    .dataframe tbody tr th:only-of-type {\n",
       "        vertical-align: middle;\n",
       "    }\n",
       "\n",
       "    .dataframe tbody tr th {\n",
       "        vertical-align: top;\n",
       "    }\n",
       "\n",
       "    .dataframe thead th {\n",
       "        text-align: right;\n",
       "    }\n",
       "</style>\n",
       "<table border=\"1\" class=\"dataframe\">\n",
       "  <thead>\n",
       "    <tr style=\"text-align: right;\">\n",
       "      <th></th>\n",
       "      <th>ID</th>\n",
       "    </tr>\n",
       "  </thead>\n",
       "  <tbody>\n",
       "    <tr>\n",
       "      <th>0</th>\n",
       "      <td>ID_001</td>\n",
       "    </tr>\n",
       "    <tr>\n",
       "      <th>1</th>\n",
       "      <td>ID_002</td>\n",
       "    </tr>\n",
       "    <tr>\n",
       "      <th>2</th>\n",
       "      <td>ID_003</td>\n",
       "    </tr>\n",
       "    <tr>\n",
       "      <th>3</th>\n",
       "      <td>ID_004</td>\n",
       "    </tr>\n",
       "    <tr>\n",
       "      <th>4</th>\n",
       "      <td>ID_005</td>\n",
       "    </tr>\n",
       "  </tbody>\n",
       "</table>\n",
       "</div>"
      ],
      "text/plain": [
       "       ID\n",
       "0  ID_001\n",
       "1  ID_002\n",
       "2  ID_003\n",
       "3  ID_004\n",
       "4  ID_005"
      ]
     },
     "execution_count": 11,
     "metadata": {},
     "output_type": "execute_result"
    }
   ],
   "source": [
    "## Creating ID\n",
    "ids = [f\"ID_{str(i).zfill(3)}\" for i in range(1, 501)]\n",
    "print(ids)\n",
    "\n",
    "df[\"ID\"]=[f\"ID_{str(i).zfill(3)}\" for i in range(1, 501)]\n",
    "df.head()"
   ]
  },
  {
   "cell_type": "code",
   "execution_count": null,
   "metadata": {},
   "outputs": [
    {
     "data": {
      "text/html": [
       "<div>\n",
       "<style scoped>\n",
       "    .dataframe tbody tr th:only-of-type {\n",
       "        vertical-align: middle;\n",
       "    }\n",
       "\n",
       "    .dataframe tbody tr th {\n",
       "        vertical-align: top;\n",
       "    }\n",
       "\n",
       "    .dataframe thead th {\n",
       "        text-align: right;\n",
       "    }\n",
       "</style>\n",
       "<table border=\"1\" class=\"dataframe\">\n",
       "  <thead>\n",
       "    <tr style=\"text-align: right;\">\n",
       "      <th></th>\n",
       "      <th>ID</th>\n",
       "      <th>Education</th>\n",
       "    </tr>\n",
       "  </thead>\n",
       "  <tbody>\n",
       "    <tr>\n",
       "      <th>0</th>\n",
       "      <td>ID_001</td>\n",
       "      <td>Primary</td>\n",
       "    </tr>\n",
       "    <tr>\n",
       "      <th>1</th>\n",
       "      <td>ID_002</td>\n",
       "      <td>Bachelors</td>\n",
       "    </tr>\n",
       "    <tr>\n",
       "      <th>2</th>\n",
       "      <td>ID_003</td>\n",
       "      <td>Bachelors</td>\n",
       "    </tr>\n",
       "    <tr>\n",
       "      <th>3</th>\n",
       "      <td>ID_004</td>\n",
       "      <td>High School</td>\n",
       "    </tr>\n",
       "    <tr>\n",
       "      <th>4</th>\n",
       "      <td>ID_005</td>\n",
       "      <td>High School</td>\n",
       "    </tr>\n",
       "  </tbody>\n",
       "</table>\n",
       "</div>"
      ],
      "text/plain": [
       "       ID    Education\n",
       "0  ID_001      Primary\n",
       "1  ID_002    Bachelors\n",
       "2  ID_003    Bachelors\n",
       "3  ID_004  High School\n",
       "4  ID_005  High School"
      ]
     },
     "execution_count": 14,
     "metadata": {},
     "output_type": "execute_result"
    }
   ],
   "source": [
    "## Education\n",
    "\n",
    "## primary - 18.2%\n",
    "## high school - 30.12%\n",
    "## bachelors - 45.18\n",
    "## master - 4.5%\n",
    "## phd - 2%\n",
    "import random\n",
    "education_option=[\"Primary\",\"High School\",\"Bachelors\",\"Masters\",\"PHD\"]\n",
    "education_weight=[18.2, 30.12, 45.18, 4.5, 2]\n",
    "df[\"Education\"]= (random.choices(education_option, weights=education_weight, k=500))\n"
   ]
  },
  {
   "cell_type": "code",
   "execution_count": 19,
   "metadata": {},
   "outputs": [],
   "source": [
    "## SNP 1\n",
    "df[\"SNP1\"]= (random.choices([0,1,2], weights=[0.33,0.33,0.33], k=500))\n",
    "df[\"SNP2\"]= (random.choices([0,1,2], weights=[0.20,0.20,0.60], k=500))\n",
    "df[\"SNP3\"]= (random.choices([0,1,2], weights=[0.30,0.20,0.5], k=500))\n",
    "df[\"SNP4\"]= (random.choices([0,1,2], weights=[0.7,0.2,0.1], k=500))\n",
    "df[\"SNP5\"]= (random.choices([0,1,2], weights=[0.1,0.30,0.60], k=500))\n",
    "\n"
   ]
  },
  {
   "cell_type": "code",
   "execution_count": 20,
   "metadata": {},
   "outputs": [
    {
     "data": {
      "text/html": [
       "<div>\n",
       "<style scoped>\n",
       "    .dataframe tbody tr th:only-of-type {\n",
       "        vertical-align: middle;\n",
       "    }\n",
       "\n",
       "    .dataframe tbody tr th {\n",
       "        vertical-align: top;\n",
       "    }\n",
       "\n",
       "    .dataframe thead th {\n",
       "        text-align: right;\n",
       "    }\n",
       "</style>\n",
       "<table border=\"1\" class=\"dataframe\">\n",
       "  <thead>\n",
       "    <tr style=\"text-align: right;\">\n",
       "      <th></th>\n",
       "      <th>ID</th>\n",
       "      <th>Education</th>\n",
       "      <th>SNP1</th>\n",
       "      <th>SNP2</th>\n",
       "      <th>SNP3</th>\n",
       "      <th>SNP4</th>\n",
       "      <th>SNP5</th>\n",
       "    </tr>\n",
       "  </thead>\n",
       "  <tbody>\n",
       "    <tr>\n",
       "      <th>0</th>\n",
       "      <td>ID_001</td>\n",
       "      <td>Primary</td>\n",
       "      <td>1</td>\n",
       "      <td>0</td>\n",
       "      <td>2</td>\n",
       "      <td>1</td>\n",
       "      <td>2</td>\n",
       "    </tr>\n",
       "    <tr>\n",
       "      <th>1</th>\n",
       "      <td>ID_002</td>\n",
       "      <td>Bachelors</td>\n",
       "      <td>0</td>\n",
       "      <td>2</td>\n",
       "      <td>2</td>\n",
       "      <td>0</td>\n",
       "      <td>0</td>\n",
       "    </tr>\n",
       "    <tr>\n",
       "      <th>2</th>\n",
       "      <td>ID_003</td>\n",
       "      <td>Bachelors</td>\n",
       "      <td>1</td>\n",
       "      <td>2</td>\n",
       "      <td>2</td>\n",
       "      <td>2</td>\n",
       "      <td>2</td>\n",
       "    </tr>\n",
       "    <tr>\n",
       "      <th>3</th>\n",
       "      <td>ID_004</td>\n",
       "      <td>High School</td>\n",
       "      <td>0</td>\n",
       "      <td>2</td>\n",
       "      <td>2</td>\n",
       "      <td>0</td>\n",
       "      <td>2</td>\n",
       "    </tr>\n",
       "    <tr>\n",
       "      <th>4</th>\n",
       "      <td>ID_005</td>\n",
       "      <td>High School</td>\n",
       "      <td>0</td>\n",
       "      <td>2</td>\n",
       "      <td>0</td>\n",
       "      <td>0</td>\n",
       "      <td>2</td>\n",
       "    </tr>\n",
       "  </tbody>\n",
       "</table>\n",
       "</div>"
      ],
      "text/plain": [
       "       ID    Education  SNP1  SNP2  SNP3  SNP4  SNP5\n",
       "0  ID_001      Primary     1     0     2     1     2\n",
       "1  ID_002    Bachelors     0     2     2     0     0\n",
       "2  ID_003    Bachelors     1     2     2     2     2\n",
       "3  ID_004  High School     0     2     2     0     2\n",
       "4  ID_005  High School     0     2     0     0     2"
      ]
     },
     "execution_count": 20,
     "metadata": {},
     "output_type": "execute_result"
    }
   ],
   "source": [
    "df.head()"
   ]
  }
 ],
 "metadata": {
  "kernelspec": {
   "display_name": "Python 3",
   "language": "python",
   "name": "python3"
  },
  "language_info": {
   "codemirror_mode": {
    "name": "ipython",
    "version": 3
   },
   "file_extension": ".py",
   "mimetype": "text/x-python",
   "name": "python",
   "nbconvert_exporter": "python",
   "pygments_lexer": "ipython3",
   "version": "3.12.0"
  }
 },
 "nbformat": 4,
 "nbformat_minor": 2
}
