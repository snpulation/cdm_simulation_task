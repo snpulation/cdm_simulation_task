{
 "cells": [
  {
   "cell_type": "markdown",
   "metadata": {},
   "source": [
    "CDM Simulation Project\n",
    "Simulating Countries and Cities "
   ]
  },
  {
   "cell_type": "code",
   "execution_count": 19,
   "metadata": {},
   "outputs": [],
   "source": [
    "#Importing Libraries\n",
    "import pandas as pd\n",
    "import numpy as np \n",
    "from numpy.random import choice\n",
    "from matplotlib import pyplot as plt \n",
    "import random"
   ]
  },
  {
   "cell_type": "markdown",
   "metadata": {},
   "source": [
    "Simulating 5 Countries\n",
    "The five chosen countries are:\n",
    "- South Africa\n",
    "- England\n",
    "- Hong Kong SAR\n",
    "- Malaysia \n",
    "- Singapore "
   ]
  },
  {
   "cell_type": "markdown",
   "metadata": {},
   "source": [
    "Simulating 10 Cities\n",
    "The ten chosen cities are:\n",
    "- Cape Town\n",
    "- Johannesburg\n",
    "- Pretoria \n",
    "- Essex\n",
    "- London\n",
    "- Manchester\n",
    "- Kuala Lumpur\n",
    "- George Town\n",
    "- Hong Kong \n",
    "- Singapore"
   ]
  },
  {
   "cell_type": "code",
   "execution_count": 32,
   "metadata": {},
   "outputs": [
    {
     "name": "stdout",
     "output_type": "stream",
     "text": [
      "['England', 'England', 'Malaysia', 'Hong Kong SAR', 'South Africa', 'South Africa', 'England', 'England', 'England', 'England', 'England', 'South Africa', 'Malaysia', 'Singapore', 'Hong Kong SAR', 'South Africa', 'Hong Kong SAR', 'Malaysia', 'Hong Kong SAR', 'England', 'England', 'Hong Kong SAR', 'Malaysia', 'Hong Kong SAR', 'Hong Kong SAR', 'England', 'Hong Kong SAR', 'Hong Kong SAR', 'Singapore', 'Malaysia', 'Hong Kong SAR', 'England', 'England', 'Malaysia', 'England', 'Malaysia', 'Singapore', 'Hong Kong SAR', 'England', 'Malaysia', 'Hong Kong SAR', 'Hong Kong SAR', 'Singapore', 'Hong Kong SAR', 'England', 'Singapore', 'Hong Kong SAR', 'South Africa', 'South Africa', 'Hong Kong SAR', 'South Africa', 'England', 'Hong Kong SAR', 'Hong Kong SAR', 'Hong Kong SAR', 'Singapore', 'England', 'Hong Kong SAR', 'Hong Kong SAR', 'Hong Kong SAR', 'Singapore', 'Singapore', 'South Africa', 'Singapore', 'England', 'England', 'South Africa', 'South Africa', 'Malaysia', 'Hong Kong SAR', 'Malaysia', 'Malaysia', 'England', 'England', 'Malaysia', 'Malaysia', 'Singapore', 'England', 'Singapore', 'Hong Kong SAR', 'Singapore', 'Hong Kong SAR', 'Singapore', 'Hong Kong SAR', 'England', 'England', 'Hong Kong SAR', 'England', 'South Africa', 'Malaysia', 'England', 'South Africa', 'Malaysia', 'South Africa', 'Hong Kong SAR', 'Malaysia', 'Hong Kong SAR', 'Singapore', 'Singapore', 'Malaysia', 'South Africa', 'England', 'Singapore', 'Hong Kong SAR', 'Malaysia', 'South Africa', 'South Africa', 'Singapore', 'Singapore', 'South Africa', 'England', 'South Africa', 'England', 'Malaysia', 'South Africa', 'Singapore', 'Hong Kong SAR', 'Singapore', 'Malaysia', 'South Africa', 'Hong Kong SAR', 'England', 'England', 'England', 'England', 'South Africa', 'England', 'Hong Kong SAR', 'Singapore', 'England', 'Singapore', 'Singapore', 'Singapore', 'England', 'Singapore', 'Hong Kong SAR', 'Hong Kong SAR', 'Singapore', 'Malaysia', 'Malaysia', 'Malaysia', 'Singapore', 'Malaysia', 'England', 'South Africa', 'South Africa', 'Hong Kong SAR', 'Malaysia', 'Singapore', 'Singapore', 'Singapore', 'Hong Kong SAR', 'South Africa', 'Singapore', 'South Africa', 'South Africa', 'Hong Kong SAR', 'Hong Kong SAR', 'South Africa', 'England', 'England', 'South Africa', 'Singapore', 'Hong Kong SAR', 'Malaysia', 'England', 'South Africa', 'Singapore', 'Hong Kong SAR', 'England', 'South Africa', 'Singapore', 'Hong Kong SAR', 'Malaysia', 'England', 'Singapore', 'Hong Kong SAR', 'South Africa', 'Malaysia', 'Malaysia', 'South Africa', 'Malaysia', 'Malaysia', 'South Africa', 'Singapore', 'Malaysia', 'Hong Kong SAR', 'Hong Kong SAR', 'South Africa', 'England', 'England', 'Malaysia', 'Malaysia', 'England', 'Malaysia', 'Hong Kong SAR', 'Malaysia', 'England', 'South Africa', 'Hong Kong SAR', 'England', 'England', 'Hong Kong SAR', 'Hong Kong SAR', 'Malaysia', 'Malaysia', 'Singapore', 'South Africa', 'Malaysia', 'Singapore', 'England', 'Malaysia', 'England', 'England', 'Singapore', 'South Africa', 'Singapore', 'Singapore', 'England', 'Malaysia', 'South Africa', 'Malaysia', 'Malaysia', 'Singapore', 'Malaysia', 'Hong Kong SAR', 'Singapore', 'Malaysia', 'South Africa', 'England', 'Hong Kong SAR', 'South Africa', 'Malaysia', 'Hong Kong SAR', 'Hong Kong SAR', 'Malaysia', 'Singapore', 'Singapore', 'Hong Kong SAR', 'England', 'South Africa', 'Malaysia', 'South Africa', 'Singapore', 'Malaysia', 'England', 'England', 'Hong Kong SAR', 'South Africa', 'Malaysia', 'South Africa', 'Singapore', 'South Africa', 'Hong Kong SAR', 'Hong Kong SAR', 'England', 'South Africa', 'South Africa', 'Hong Kong SAR', 'Malaysia', 'Hong Kong SAR', 'South Africa', 'South Africa', 'Singapore', 'Hong Kong SAR', 'South Africa', 'Singapore', 'England', 'Malaysia', 'Hong Kong SAR', 'South Africa', 'Malaysia', 'Hong Kong SAR', 'Hong Kong SAR', 'Hong Kong SAR', 'Malaysia', 'Malaysia', 'Hong Kong SAR', 'South Africa', 'South Africa', 'Malaysia', 'Malaysia', 'Singapore', 'Hong Kong SAR', 'England', 'England', 'South Africa', 'Malaysia', 'Malaysia', 'Hong Kong SAR', 'Singapore', 'Malaysia', 'South Africa', 'England', 'South Africa', 'South Africa', 'South Africa', 'Singapore', 'Singapore', 'Hong Kong SAR', 'Malaysia', 'South Africa', 'Singapore', 'England', 'Singapore', 'Malaysia', 'South Africa', 'South Africa', 'Hong Kong SAR', 'Singapore', 'England', 'South Africa', 'South Africa', 'Hong Kong SAR', 'South Africa', 'Malaysia', 'Hong Kong SAR', 'England', 'South Africa', 'Malaysia', 'Malaysia', 'South Africa', 'Malaysia', 'Singapore', 'Malaysia', 'Hong Kong SAR', 'Malaysia', 'South Africa', 'England', 'South Africa', 'Hong Kong SAR', 'England', 'Malaysia', 'England', 'Hong Kong SAR', 'England', 'Hong Kong SAR', 'Hong Kong SAR', 'Singapore', 'England', 'Hong Kong SAR', 'South Africa', 'Hong Kong SAR', 'Singapore', 'England', 'Malaysia', 'South Africa', 'England', 'Hong Kong SAR', 'Hong Kong SAR', 'Malaysia', 'South Africa', 'Singapore', 'Singapore', 'Hong Kong SAR', 'South Africa', 'Malaysia', 'Hong Kong SAR', 'England', 'England', 'Malaysia', 'England', 'South Africa', 'Hong Kong SAR', 'South Africa', 'South Africa', 'South Africa', 'Malaysia', 'Singapore', 'Hong Kong SAR', 'Malaysia', 'England', 'Hong Kong SAR', 'Singapore', 'Malaysia', 'South Africa', 'South Africa', 'Singapore', 'Hong Kong SAR', 'South Africa', 'Singapore', 'Hong Kong SAR', 'Singapore', 'South Africa', 'Hong Kong SAR', 'Singapore', 'Malaysia', 'England', 'Hong Kong SAR', 'Malaysia', 'Singapore', 'England', 'England', 'Singapore', 'Singapore', 'Malaysia', 'England', 'South Africa', 'South Africa', 'South Africa', 'Hong Kong SAR', 'South Africa', 'Hong Kong SAR', 'South Africa', 'Singapore', 'Hong Kong SAR', 'Singapore', 'Malaysia', 'Hong Kong SAR', 'Hong Kong SAR', 'Hong Kong SAR', 'England', 'Hong Kong SAR', 'Hong Kong SAR', 'Malaysia', 'Malaysia', 'South Africa', 'Malaysia', 'England', 'South Africa', 'Malaysia', 'England', 'South Africa', 'Singapore', 'Malaysia', 'Singapore', 'Singapore', 'Malaysia', 'England', 'Hong Kong SAR', 'South Africa', 'Singapore', 'South Africa', 'Hong Kong SAR', 'Malaysia', 'Singapore', 'Hong Kong SAR', 'Singapore', 'Singapore', 'England', 'Hong Kong SAR', 'England', 'Singapore', 'South Africa', 'England', 'South Africa', 'South Africa', 'Singapore', 'Singapore', 'England', 'England', 'Hong Kong SAR', 'Malaysia', 'Hong Kong SAR', 'Malaysia', 'Hong Kong SAR', 'South Africa', 'South Africa', 'England', 'South Africa', 'Hong Kong SAR', 'Malaysia', 'England', 'Hong Kong SAR', 'Hong Kong SAR', 'England', 'Hong Kong SAR', 'England', 'Hong Kong SAR', 'Malaysia', 'Singapore', 'Hong Kong SAR', 'Singapore', 'Singapore', 'England', 'Singapore', 'Malaysia', 'South Africa', 'England', 'Malaysia', 'Malaysia', 'England', 'Singapore', 'South Africa', 'South Africa', 'Hong Kong SAR', 'South Africa', 'Hong Kong SAR', 'Malaysia', 'Singapore', 'Singapore', 'Malaysia', 'South Africa', 'South Africa', 'Malaysia', 'South Africa', 'Hong Kong SAR', 'Singapore', 'Singapore', 'England']\n",
      "['Essex', 'Essex', 'Kuala Lumpur', 'Hong Kong', 'Pretoria', 'Cape Town', 'Manchester', 'London', 'Essex', 'London', 'London', 'Pretoria', 'Kuala Lumpur', 'Singapore', 'Hong Kong', 'Johannesburg', 'Hong Kong', 'Kuala Lumpur', 'Hong Kong', 'Essex', 'Essex', 'Hong Kong', 'George Town', 'Hong Kong', 'Hong Kong', 'Manchester', 'Hong Kong', 'Hong Kong', 'Singapore', 'George Town', 'Hong Kong', 'Essex', 'Essex', 'George Town', 'London', 'George Town', 'Singapore', 'Hong Kong', 'Manchester', 'George Town', 'Hong Kong', 'Hong Kong', 'Singapore', 'Hong Kong', 'Manchester', 'Singapore', 'Hong Kong', 'Johannesburg', 'Cape Town', 'Hong Kong', 'Pretoria', 'Manchester', 'Hong Kong', 'Hong Kong', 'Hong Kong', 'Singapore', 'Essex', 'Hong Kong', 'Hong Kong', 'Hong Kong', 'Singapore', 'Singapore', 'Cape Town', 'Singapore', 'London', 'London', 'Pretoria', 'Cape Town', 'George Town', 'Hong Kong', 'Kuala Lumpur', 'Kuala Lumpur', 'London', 'London', 'Kuala Lumpur', 'Kuala Lumpur', 'Singapore', 'Manchester', 'Singapore', 'Hong Kong', 'Singapore', 'Hong Kong', 'Singapore', 'Hong Kong', 'Essex', 'London', 'Hong Kong', 'London', 'Pretoria', 'Kuala Lumpur', 'Essex', 'Johannesburg', 'George Town', 'Cape Town', 'Hong Kong', 'Kuala Lumpur', 'Hong Kong', 'Singapore', 'Singapore', 'Kuala Lumpur', 'Johannesburg', 'Essex', 'Singapore', 'Hong Kong', 'Kuala Lumpur', 'Cape Town', 'Cape Town', 'Singapore', 'Singapore', 'Cape Town', 'Manchester', 'Cape Town', 'Manchester', 'Kuala Lumpur', 'Johannesburg', 'Singapore', 'Hong Kong', 'Singapore', 'Kuala Lumpur', 'Pretoria', 'Hong Kong', 'Essex', 'Manchester', 'London', 'Essex', 'Cape Town', 'London', 'Hong Kong', 'Singapore', 'London', 'Singapore', 'Singapore', 'Singapore', 'Manchester', 'Singapore', 'Hong Kong', 'Hong Kong', 'Singapore', 'Kuala Lumpur', 'George Town', 'George Town', 'Singapore', 'George Town', 'Essex', 'Pretoria', 'Cape Town', 'Hong Kong', 'Kuala Lumpur', 'Singapore', 'Singapore', 'Singapore', 'Hong Kong', 'Johannesburg', 'Singapore', 'Johannesburg', 'Johannesburg', 'Hong Kong', 'Hong Kong', 'Cape Town', 'Manchester', 'London', 'Cape Town', 'Singapore', 'Hong Kong', 'Kuala Lumpur', 'London', 'Pretoria', 'Singapore', 'Hong Kong', 'Essex', 'Pretoria', 'Singapore', 'Hong Kong', 'Kuala Lumpur', 'London', 'Singapore', 'Hong Kong', 'Pretoria', 'George Town', 'Kuala Lumpur', 'Johannesburg', 'Kuala Lumpur', 'George Town', 'Pretoria', 'Singapore', 'Kuala Lumpur', 'Hong Kong', 'Hong Kong', 'Cape Town', 'Essex', 'London', 'Kuala Lumpur', 'George Town', 'Manchester', 'George Town', 'Hong Kong', 'Kuala Lumpur', 'London', 'Cape Town', 'Hong Kong', 'London', 'Essex', 'Hong Kong', 'Hong Kong', 'George Town', 'Kuala Lumpur', 'Singapore', 'Cape Town', 'Kuala Lumpur', 'Singapore', 'Manchester', 'Kuala Lumpur', 'Essex', 'Manchester', 'Singapore', 'Pretoria', 'Singapore', 'Singapore', 'London', 'Kuala Lumpur', 'Johannesburg', 'George Town', 'George Town', 'Singapore', 'George Town', 'Hong Kong', 'Singapore', 'Kuala Lumpur', 'Pretoria', 'London', 'Hong Kong', 'Johannesburg', 'George Town', 'Hong Kong', 'Hong Kong', 'Kuala Lumpur', 'Singapore', 'Singapore', 'Hong Kong', 'London', 'Pretoria', 'George Town', 'Pretoria', 'Singapore', 'George Town', 'Essex', 'Manchester', 'Hong Kong', 'Johannesburg', 'George Town', 'Cape Town', 'Singapore', 'Cape Town', 'Hong Kong', 'Hong Kong', 'Essex', 'Johannesburg', 'Johannesburg', 'Hong Kong', 'George Town', 'Hong Kong', 'Pretoria', 'Pretoria', 'Singapore', 'Hong Kong', 'Pretoria', 'Singapore', 'London', 'Kuala Lumpur', 'Hong Kong', 'Cape Town', 'Kuala Lumpur', 'Hong Kong', 'Hong Kong', 'Hong Kong', 'Kuala Lumpur', 'Kuala Lumpur', 'Hong Kong', 'Johannesburg', 'Johannesburg', 'George Town', 'George Town', 'Singapore', 'Hong Kong', 'Essex', 'Manchester', 'Johannesburg', 'Kuala Lumpur', 'George Town', 'Hong Kong', 'Singapore', 'Kuala Lumpur', 'Johannesburg', 'Manchester', 'Johannesburg', 'Johannesburg', 'Johannesburg', 'Singapore', 'Singapore', 'Hong Kong', 'George Town', 'Johannesburg', 'Singapore', 'Manchester', 'Singapore', 'George Town', 'Pretoria', 'Pretoria', 'Hong Kong', 'Singapore', 'Manchester', 'Pretoria', 'Johannesburg', 'Hong Kong', 'Johannesburg', 'Kuala Lumpur', 'Hong Kong', 'London', 'Johannesburg', 'Kuala Lumpur', 'Kuala Lumpur', 'Cape Town', 'Kuala Lumpur', 'Singapore', 'George Town', 'Hong Kong', 'Kuala Lumpur', 'Johannesburg', 'London', 'Cape Town', 'Hong Kong', 'Essex', 'Kuala Lumpur', 'Manchester', 'Hong Kong', 'Essex', 'Hong Kong', 'Hong Kong', 'Singapore', 'London', 'Hong Kong', 'Pretoria', 'Hong Kong', 'Singapore', 'London', 'Kuala Lumpur', 'Johannesburg', 'Manchester', 'Hong Kong', 'Hong Kong', 'Kuala Lumpur', 'Pretoria', 'Singapore', 'Singapore', 'Hong Kong', 'Pretoria', 'Kuala Lumpur', 'Hong Kong', 'Manchester', 'Essex', 'Kuala Lumpur', 'Manchester', 'Pretoria', 'Hong Kong', 'Johannesburg', 'Johannesburg', 'Johannesburg', 'Kuala Lumpur', 'Singapore', 'Hong Kong', 'George Town', 'Manchester', 'Hong Kong', 'Singapore', 'Kuala Lumpur', 'Pretoria', 'Cape Town', 'Singapore', 'Hong Kong', 'Pretoria', 'Singapore', 'Hong Kong', 'Singapore', 'Pretoria', 'Hong Kong', 'Singapore', 'George Town', 'London', 'Hong Kong', 'Kuala Lumpur', 'Singapore', 'London', 'Essex', 'Singapore', 'Singapore', 'George Town', 'London', 'Cape Town', 'Johannesburg', 'Johannesburg', 'Hong Kong', 'Johannesburg', 'Hong Kong', 'Pretoria', 'Singapore', 'Hong Kong', 'Singapore', 'Kuala Lumpur', 'Hong Kong', 'Hong Kong', 'Hong Kong', 'London', 'Hong Kong', 'Hong Kong', 'George Town', 'George Town', 'Johannesburg', 'Kuala Lumpur', 'Manchester', 'Cape Town', 'George Town', 'Manchester', 'Cape Town', 'Singapore', 'George Town', 'Singapore', 'Singapore', 'George Town', 'London', 'Hong Kong', 'Pretoria', 'Singapore', 'Cape Town', 'Hong Kong', 'George Town', 'Singapore', 'Hong Kong', 'Singapore', 'Singapore', 'Essex', 'Hong Kong', 'Essex', 'Singapore', 'Pretoria', 'London', 'Pretoria', 'Cape Town', 'Singapore', 'Singapore', 'Essex', 'Manchester', 'Hong Kong', 'Kuala Lumpur', 'Hong Kong', 'Kuala Lumpur', 'Hong Kong', 'Pretoria', 'Pretoria', 'Manchester', 'Pretoria', 'Hong Kong', 'Kuala Lumpur', 'Manchester', 'Hong Kong', 'Hong Kong', 'London', 'Hong Kong', 'Essex', 'Hong Kong', 'Kuala Lumpur', 'Singapore', 'Hong Kong', 'Singapore', 'Singapore', 'Essex', 'Singapore', 'Kuala Lumpur', 'Cape Town', 'London', 'Kuala Lumpur', 'Kuala Lumpur', 'Manchester', 'Singapore', 'Johannesburg', 'Pretoria', 'Hong Kong', 'Cape Town', 'Hong Kong', 'Kuala Lumpur', 'Singapore', 'Singapore', 'Kuala Lumpur', 'Pretoria', 'Cape Town', 'George Town', 'Johannesburg', 'Hong Kong', 'Singapore', 'Singapore', 'Essex']\n"
     ]
    }
   ],
   "source": [
    "countries = random.choices(population=[\"South Africa\", \"England\", \"Hong Kong SAR\", \"Malaysia\", \"Singapore\"], weights = [0.2, 0.2, 0.2, 0.2, 0.2], k=500)\n",
    "print(countries)\n",
    "\n",
    "cities = []\n",
    "for city in countries:\n",
    "    if city == \"South Africa\":\n",
    "        south_africa_cities = random.choices(population=[\"Cape Town\", \"Johannesburg\", \"Pretoria\"], weights = [0.33, 0.33, 0.33])\n",
    "        cities.append(south_africa_cities[0])\n",
    "    elif city == \"England\":\n",
    "        england_cities = random.choices(population=[\"Essex\", \"London\", \"Manchester\"], weights =[0.33, 0.33, 0.33])\n",
    "        cities.append(england_cities[0])\n",
    "    elif city == \"Malaysia\":\n",
    "        malaysia_cities = random.choices(population=[\"Kuala Lumpur\", \"George Town\"], weights =[0.5, 0.5])\n",
    "        cities.append(malaysia_cities[0])\n",
    "    elif city == \"Singapore\":\n",
    "        singapore_cities = \"Singapore\"\n",
    "        cities.append(singapore_cities)\n",
    "    elif city == \"Hong Kong SAR\":\n",
    "        hk_cities = \"Hong Kong\"\n",
    "        cities.append(hk_cities)\n",
    "\n",
    "print(cities)"
   ]
  },
  {
   "cell_type": "markdown",
   "metadata": {},
   "source": [
    "Making a Dataframe "
   ]
  },
  {
   "cell_type": "code",
   "execution_count": 33,
   "metadata": {},
   "outputs": [
    {
     "name": "stdout",
     "output_type": "stream",
     "text": [
      "           Country          City\n",
      "0          England         Essex\n",
      "1          England         Essex\n",
      "2         Malaysia  Kuala Lumpur\n",
      "3    Hong Kong SAR     Hong Kong\n",
      "4     South Africa      Pretoria\n",
      "..             ...           ...\n",
      "495   South Africa  Johannesburg\n",
      "496  Hong Kong SAR     Hong Kong\n",
      "497      Singapore     Singapore\n",
      "498      Singapore     Singapore\n",
      "499        England         Essex\n",
      "\n",
      "[500 rows x 2 columns]\n"
     ]
    }
   ],
   "source": [
    "#Creating the data for the dataframe\n",
    "country_city_date = {'Country': countries,\n",
    "                   'City': cities}\n",
    "\n",
    "#Creating the dataframe\n",
    "country_city_df = pd.DataFrame(country_city_date)\n",
    "\n",
    "#Print datafram\n",
    "print(country_city_df)"
   ]
  }
 ],
 "metadata": {
  "kernelspec": {
   "display_name": "base",
   "language": "python",
   "name": "python3"
  },
  "language_info": {
   "codemirror_mode": {
    "name": "ipython",
    "version": 3
   },
   "file_extension": ".py",
   "mimetype": "text/x-python",
   "name": "python",
   "nbconvert_exporter": "python",
   "pygments_lexer": "ipython3",
   "version": "3.11.7"
  }
 },
 "nbformat": 4,
 "nbformat_minor": 2
}
